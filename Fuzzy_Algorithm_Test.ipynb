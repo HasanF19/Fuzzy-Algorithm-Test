{
  "nbformat": 4,
  "nbformat_minor": 0,
  "metadata": {
    "colab": {
      "provenance": [],
      "machine_shape": "hm",
      "authorship_tag": "ABX9TyOcG0POOgdi5Z0BmJnoQLHm",
      "include_colab_link": true
    },
    "kernelspec": {
      "name": "python3",
      "display_name": "Python 3"
    },
    "language_info": {
      "name": "python"
    }
  },
  "cells": [
    {
      "cell_type": "markdown",
      "metadata": {
        "id": "view-in-github",
        "colab_type": "text"
      },
      "source": [
        "<a href=\"https://colab.research.google.com/github/HasanF19/Fuzzy-Algorithm-Test/blob/main/Fuzzy_Algorithm_Test.ipynb\" target=\"_parent\"><img src=\"https://colab.research.google.com/assets/colab-badge.svg\" alt=\"Open In Colab\"/></a>"
      ]
    },
    {
      "cell_type": "markdown",
      "source": [
        "#220212002 Hasan Fatih Öztürk Fuzzy Algoritması çalışması"
      ],
      "metadata": {
        "id": "8Choq_fkUPR8"
      }
    },
    {
      "cell_type": "code",
      "source": [
        "!pip install scikit-fuzzy"
      ],
      "metadata": {
        "colab": {
          "base_uri": "https://localhost:8080/"
        },
        "id": "YJHDnEmwLAu4",
        "outputId": "3afcae22-d04e-4ac8-be62-168a61a7cc09"
      },
      "execution_count": null,
      "outputs": [
        {
          "output_type": "stream",
          "name": "stdout",
          "text": [
            "Requirement already satisfied: scikit-fuzzy in /usr/local/lib/python3.11/dist-packages (0.5.0)\n"
          ]
        }
      ]
    },
    {
      "cell_type": "code",
      "execution_count": null,
      "metadata": {
        "id": "O62ulDa2K5iv"
      },
      "outputs": [],
      "source": [
        "# Hücre 1\n",
        "import numpy as np\n",
        "import matplotlib.pyplot as plt\n",
        "import skfuzzy as fuzz\n",
        "from skfuzzy import control as ctrl\n"
      ]
    },
    {
      "cell_type": "code",
      "source": [
        "# Hücre 2\n",
        "\n",
        "# Girişler: Hedefe göre x ve y hatası\n",
        "error_x = ctrl.Antecedent(np.arange(-4, 4.1, 0.1), 'error_x')\n",
        "error_y = ctrl.Antecedent(np.arange(-4, 4.1, 0.1), 'error_y')\n",
        "\n",
        "# Çıkışlar: q1 ve q2 açı değişimi (derece)\n",
        "delta_q1 = ctrl.Consequent(np.arange(-15, 16, 1), 'delta_q1')\n",
        "delta_q2 = ctrl.Consequent(np.arange(-15, 16, 1), 'delta_q2')\n",
        "\n",
        "# Üyelik fonksiyonları\n",
        "error_x['N'] = fuzz.trimf(error_x.universe, [-4, -4, 0])\n",
        "error_x['Z'] = fuzz.trimf(error_x.universe, [-1, 0, 1])\n",
        "error_x['P'] = fuzz.trimf(error_x.universe, [0, 4, 4])\n",
        "\n",
        "error_y['N'] = fuzz.trimf(error_y.universe, [-4, -4, 0])\n",
        "error_y['Z'] = fuzz.trimf(error_y.universe, [-1, 0, 1])\n",
        "error_y['P'] = fuzz.trimf(error_y.universe, [0, 4, 4])\n",
        "\n",
        "delta_q1['N'] = fuzz.trimf(delta_q1.universe, [-15, -15, 0])\n",
        "delta_q1['Z'] = fuzz.trimf(delta_q1.universe, [-5, 0, 5])\n",
        "delta_q1['P'] = fuzz.trimf(delta_q1.universe, [0, 15, 15])\n",
        "\n",
        "delta_q2['N'] = fuzz.trimf(delta_q2.universe, [-15, -15, 0])\n",
        "delta_q2['Z'] = fuzz.trimf(delta_q2.universe, [-5, 0, 5])\n",
        "delta_q2['P'] = fuzz.trimf(delta_q2.universe, [0, 15, 15])\n"
      ],
      "metadata": {
        "id": "CRU9TKVvMkUf"
      },
      "execution_count": null,
      "outputs": []
    },
    {
      "cell_type": "code",
      "source": [
        "# Hücre 4\n",
        "\n",
        "rule1 = ctrl.Rule(error_x['P'] & error_y['P'], (delta_q1['P'], delta_q2['N']))\n",
        "rule2 = ctrl.Rule(error_x['N'] & error_y['P'], (delta_q1['N'], delta_q2['N']))\n",
        "rule3 = ctrl.Rule(error_x['P'] & error_y['N'], (delta_q1['P'], delta_q2['P']))\n",
        "rule4 = ctrl.Rule(error_x['N'] & error_y['N'], (delta_q1['N'], delta_q2['P']))\n",
        "rule5 = ctrl.Rule(error_x['Z'] & error_y['Z'], (delta_q1['Z'], delta_q2['Z']))\n",
        "\n",
        "fuzzy_ctrl = ctrl.ControlSystem([rule1, rule2, rule3, rule4, rule5])\n",
        "fuzzy_sim = ctrl.ControlSystemSimulation(fuzzy_ctrl)\n"
      ],
      "metadata": {
        "id": "HY0i2unxLEmO"
      },
      "execution_count": null,
      "outputs": []
    },
    {
      "cell_type": "code",
      "source": [
        "# Hücre 5\n",
        "\n",
        "a1 = 3   # 1. kol uzunluğu\n",
        "a2 = 1   # 2. kol uzunluğu\n",
        "\n",
        "target_x = 0\n",
        "target_y = 2\n",
        "\n",
        "# Başlangıç açıları (derece cinsinden)\n",
        "q1 = 0.0\n",
        "q2 = 0.0\n"
      ],
      "metadata": {
        "id": "upAJgF7LLFqm"
      },
      "execution_count": 149,
      "outputs": []
    },
    {
      "cell_type": "code",
      "source": [
        "# Hücre 5\n",
        "\n",
        "q1_list = []\n",
        "q2_list = []\n",
        "x_list = []\n",
        "y_list = []\n",
        "\n",
        "for i in range(40):  # Adım sayısını artırabilirsin\n",
        "    x = a1 * np.cos(np.radians(q1)) + a2 * np.cos(np.radians(q1 + q2))\n",
        "    y = a1 * np.sin(np.radians(q1)) + a2 * np.sin(np.radians(q1 + q2))\n",
        "\n",
        "    errorx = target_x - x\n",
        "    errory = target_y - y\n",
        "    dist = np.sqrt(errorx**2 + errory**2)\n",
        "\n",
        "    fuzzy_sim.input['error_x'] = errorx\n",
        "    fuzzy_sim.input['error_y'] = errory\n",
        "    fuzzy_sim.compute()\n",
        "\n",
        "    dq1 = fuzzy_sim.output['delta_q1']\n",
        "    dq2 = fuzzy_sim.output['delta_q2']\n",
        "\n",
        "    # Küçük adımlarla güncelle (güvenli çarpan)\n",
        "    q1 += dq1 * 0.08\n",
        "    q2 += dq2 * 0.08\n",
        "\n",
        "    # Yeni pozisyonu hesapla\n",
        "    new_x = a1 * np.cos(np.radians(q1)) + a2 * np.cos(np.radians(q1 + q2))\n",
        "    new_y = a1 * np.sin(np.radians(q1)) + a2 * np.sin(np.radians(q1 + q2))\n",
        "    new_dist = np.sqrt((target_x - new_x)**2 + (target_y - new_y)**2)\n",
        "\n",
        "    # Eğer uzaklaşırsa, değişimi tersle\n",
        "    if new_dist > dist:\n",
        "        q1 -= 2 * dq1 * 0.08\n",
        "        q2 -= 2 * dq2 * 0.08\n",
        "\n",
        "    q1_list.append(q1)\n",
        "    q2_list.append(q2)\n",
        "    x_list.append(x)\n",
        "    y_list.append(y)\n",
        "\n",
        "    print(f\"Adım {i+1}:\")\n",
        "    print(f\"  Uç pozisyonum: x={x:.2f}, y={y:.2f}\")\n",
        "    print(f\"  Hedef hata: Δx={errorx:.2f}, Δy={errory:.2f}\")\n",
        "    print(f\"  Bulanık mantık çıkışı: dq1={dq1:.2f}, dq2={dq2:.2f}\")\n",
        "    print(f\"  Yeni açı değerleri: q1={q1:.2f}, q2={q2:.2f}\")\n",
        "\n",
        "    if abs(errorx) < 0.05 and abs(errory) < 0.05:\n",
        "        print(\"\\nHEDEFE ULAŞTIM!\")#ne yazıkki ulaşamadık ve çıktıyı göremedik\n",
        "        break\n",
        "\n",
        "#iki hücrede kodu tekrar tekrar çalıştırmak zor olduğu için hücreler birleştirilmiştir\n",
        "# Hücre 6\n",
        "\n",
        "fig, ax = plt.subplots()\n",
        "ax.set_aspect('equal')\n",
        "ax.set_xlim(-4, 4)\n",
        "ax.set_ylim(-1, 4)\n",
        "plt.xlabel(\"x\")\n",
        "plt.ylabel(\"y\")\n",
        "plt.title(\"Robotun Hedefe Bulanık Mantıkla Hareketi\")\n",
        "plt.plot(target_x, target_y, 'ro', label='Hedef (0,2)')\n",
        "plt.legend()\n",
        "\n",
        "for j in range(len(q1_list)):\n",
        "    q1_deg = q1_list[j]\n",
        "    q2_deg = q2_list[j]\n",
        "    x0, y0 = 0, 0\n",
        "    x1 = a1 * np.cos(np.radians(q1_deg))\n",
        "    y1 = a1 * np.sin(np.radians(q1_deg))\n",
        "    x2 = x1 + a2 * np.cos(np.radians(q1_deg + q2_deg))\n",
        "    y2 = y1 + a2 * np.sin(np.radians(q1_deg + q2_deg))\n",
        "    ax.plot([x0, x1], [y0, y1], 'b-', linewidth=2)\n",
        "    ax.plot([x1, x2], [y1, y2], 'g-', linewidth=2)\n",
        "    ax.plot(x2, y2, 'ko')\n",
        "    plt.pause(0.4)\n",
        "    if j != len(q1_list) - 1:\n",
        "        ax.lines = ax.lines[:1]\n",
        "\n",
        "plt.show()\n"
      ],
      "metadata": {
        "colab": {
          "base_uri": "https://localhost:8080/",
          "height": 1000
        },
        "collapsed": true,
        "id": "eiFB3LAtLGrZ",
        "outputId": "452c2bd0-0c74-4c63-a320-7f22c30e2e1b"
      },
      "execution_count": 156,
      "outputs": [
        {
          "output_type": "stream",
          "name": "stdout",
          "text": [
            "Adım 1:\n",
            "  Uç pozisyonum: x=0.00, y=2.98\n",
            "  Hedef hata: Δx=-0.00, Δy=-0.98\n",
            "  Bulanık mantık çıkışı: dq1=-0.02, dq2=0.02\n",
            "  Yeni açı değerleri: q1=109.25, q2=-100.76\n",
            "Adım 2:\n",
            "  Uç pozisyonum: x=0.00, y=2.98\n",
            "  Hedef hata: Δx=-0.00, Δy=-0.98\n",
            "  Bulanık mantık çıkışı: dq1=-0.01, dq2=0.01\n",
            "  Yeni açı değerleri: q1=109.25, q2=-100.76\n",
            "Adım 3:\n",
            "  Uç pozisyonum: x=0.00, y=2.98\n",
            "  Hedef hata: Δx=-0.00, Δy=-0.98\n",
            "  Bulanık mantık çıkışı: dq1=-0.01, dq2=0.01\n",
            "  Yeni açı değerleri: q1=109.25, q2=-100.76\n",
            "Adım 4:\n",
            "  Uç pozisyonum: x=0.00, y=2.98\n",
            "  Hedef hata: Δx=-0.00, Δy=-0.98\n",
            "  Bulanık mantık çıkışı: dq1=-0.00, dq2=0.00\n",
            "  Yeni açı değerleri: q1=109.25, q2=-100.76\n",
            "Adım 5:\n",
            "  Uç pozisyonum: x=0.00, y=2.98\n",
            "  Hedef hata: Δx=-0.00, Δy=-0.98\n",
            "  Bulanık mantık çıkışı: dq1=-0.00, dq2=0.00\n",
            "  Yeni açı değerleri: q1=109.25, q2=-100.77\n",
            "Adım 6:\n",
            "  Uç pozisyonum: x=0.00, y=2.98\n",
            "  Hedef hata: Δx=-0.00, Δy=-0.98\n",
            "  Bulanık mantık çıkışı: dq1=-0.00, dq2=0.00\n",
            "  Yeni açı değerleri: q1=109.25, q2=-100.77\n",
            "Adım 7:\n",
            "  Uç pozisyonum: x=0.00, y=2.98\n",
            "  Hedef hata: Δx=-0.00, Δy=-0.98\n",
            "  Bulanık mantık çıkışı: dq1=-0.00, dq2=0.00\n",
            "  Yeni açı değerleri: q1=109.25, q2=-100.77\n",
            "Adım 8:\n",
            "  Uç pozisyonum: x=0.00, y=2.98\n",
            "  Hedef hata: Δx=-0.00, Δy=-0.98\n",
            "  Bulanık mantık çıkışı: dq1=-0.00, dq2=0.00\n",
            "  Yeni açı değerleri: q1=109.25, q2=-100.77\n",
            "Adım 9:\n",
            "  Uç pozisyonum: x=0.00, y=2.98\n",
            "  Hedef hata: Δx=-0.00, Δy=-0.98\n",
            "  Bulanık mantık çıkışı: dq1=-0.00, dq2=0.00\n",
            "  Yeni açı değerleri: q1=109.25, q2=-100.77\n",
            "Adım 10:\n",
            "  Uç pozisyonum: x=0.00, y=2.98\n",
            "  Hedef hata: Δx=-0.00, Δy=-0.98\n",
            "  Bulanık mantık çıkışı: dq1=-0.00, dq2=0.00\n",
            "  Yeni açı değerleri: q1=109.25, q2=-100.77\n",
            "Adım 11:\n",
            "  Uç pozisyonum: x=0.00, y=2.98\n",
            "  Hedef hata: Δx=-0.00, Δy=-0.98\n",
            "  Bulanık mantık çıkışı: dq1=-0.00, dq2=0.00\n",
            "  Yeni açı değerleri: q1=109.25, q2=-100.77\n",
            "Adım 12:\n",
            "  Uç pozisyonum: x=0.00, y=2.98\n",
            "  Hedef hata: Δx=-0.00, Δy=-0.98\n",
            "  Bulanık mantık çıkışı: dq1=-0.00, dq2=0.00\n",
            "  Yeni açı değerleri: q1=109.25, q2=-100.77\n",
            "Adım 13:\n",
            "  Uç pozisyonum: x=0.00, y=2.98\n",
            "  Hedef hata: Δx=-0.00, Δy=-0.98\n",
            "  Bulanık mantık çıkışı: dq1=-0.00, dq2=0.00\n",
            "  Yeni açı değerleri: q1=109.25, q2=-100.77\n",
            "Adım 14:\n",
            "  Uç pozisyonum: x=0.00, y=2.98\n",
            "  Hedef hata: Δx=-0.00, Δy=-0.98\n",
            "  Bulanık mantık çıkışı: dq1=-0.00, dq2=0.00\n",
            "  Yeni açı değerleri: q1=109.25, q2=-100.77\n",
            "Adım 15:\n",
            "  Uç pozisyonum: x=0.00, y=2.98\n",
            "  Hedef hata: Δx=-0.00, Δy=-0.98\n",
            "  Bulanık mantık çıkışı: dq1=-0.00, dq2=0.00\n",
            "  Yeni açı değerleri: q1=109.25, q2=-100.77\n",
            "Adım 16:\n",
            "  Uç pozisyonum: x=0.00, y=2.98\n",
            "  Hedef hata: Δx=-0.00, Δy=-0.98\n",
            "  Bulanık mantık çıkışı: dq1=-0.00, dq2=0.00\n",
            "  Yeni açı değerleri: q1=109.25, q2=-100.77\n",
            "Adım 17:\n",
            "  Uç pozisyonum: x=0.00, y=2.98\n",
            "  Hedef hata: Δx=-0.00, Δy=-0.98\n",
            "  Bulanık mantık çıkışı: dq1=-0.00, dq2=0.00\n",
            "  Yeni açı değerleri: q1=109.25, q2=-100.77\n",
            "Adım 18:\n",
            "  Uç pozisyonum: x=0.00, y=2.98\n",
            "  Hedef hata: Δx=-0.00, Δy=-0.98\n",
            "  Bulanık mantık çıkışı: dq1=-0.00, dq2=0.00\n",
            "  Yeni açı değerleri: q1=109.25, q2=-100.77\n",
            "Adım 19:\n",
            "  Uç pozisyonum: x=0.00, y=2.98\n",
            "  Hedef hata: Δx=-0.00, Δy=-0.98\n",
            "  Bulanık mantık çıkışı: dq1=-0.00, dq2=0.00\n",
            "  Yeni açı değerleri: q1=109.25, q2=-100.77\n",
            "Adım 20:\n",
            "  Uç pozisyonum: x=0.00, y=2.98\n",
            "  Hedef hata: Δx=-0.00, Δy=-0.98\n",
            "  Bulanık mantık çıkışı: dq1=-0.00, dq2=0.00\n",
            "  Yeni açı değerleri: q1=109.25, q2=-100.77\n",
            "Adım 21:\n",
            "  Uç pozisyonum: x=0.00, y=2.98\n",
            "  Hedef hata: Δx=-0.00, Δy=-0.98\n",
            "  Bulanık mantık çıkışı: dq1=-0.00, dq2=0.00\n",
            "  Yeni açı değerleri: q1=109.25, q2=-100.77\n",
            "Adım 22:\n",
            "  Uç pozisyonum: x=0.00, y=2.98\n",
            "  Hedef hata: Δx=-0.00, Δy=-0.98\n",
            "  Bulanık mantık çıkışı: dq1=-0.00, dq2=0.00\n",
            "  Yeni açı değerleri: q1=109.25, q2=-100.77\n",
            "Adım 23:\n",
            "  Uç pozisyonum: x=0.00, y=2.98\n",
            "  Hedef hata: Δx=-0.00, Δy=-0.98\n",
            "  Bulanık mantık çıkışı: dq1=-0.00, dq2=0.00\n",
            "  Yeni açı değerleri: q1=109.25, q2=-100.77\n",
            "Adım 24:\n",
            "  Uç pozisyonum: x=0.00, y=2.98\n",
            "  Hedef hata: Δx=-0.00, Δy=-0.98\n",
            "  Bulanık mantık çıkışı: dq1=-0.00, dq2=0.00\n",
            "  Yeni açı değerleri: q1=109.25, q2=-100.77\n",
            "Adım 25:\n",
            "  Uç pozisyonum: x=0.00, y=2.98\n",
            "  Hedef hata: Δx=-0.00, Δy=-0.98\n",
            "  Bulanık mantık çıkışı: dq1=-0.00, dq2=0.00\n",
            "  Yeni açı değerleri: q1=109.25, q2=-100.77\n",
            "Adım 26:\n",
            "  Uç pozisyonum: x=0.00, y=2.98\n",
            "  Hedef hata: Δx=-0.00, Δy=-0.98\n",
            "  Bulanık mantık çıkışı: dq1=-0.00, dq2=0.00\n",
            "  Yeni açı değerleri: q1=109.25, q2=-100.77\n",
            "Adım 27:\n",
            "  Uç pozisyonum: x=0.00, y=2.98\n",
            "  Hedef hata: Δx=-0.00, Δy=-0.98\n",
            "  Bulanık mantık çıkışı: dq1=-0.00, dq2=0.00\n",
            "  Yeni açı değerleri: q1=109.25, q2=-100.77\n",
            "Adım 28:\n",
            "  Uç pozisyonum: x=0.00, y=2.98\n",
            "  Hedef hata: Δx=-0.00, Δy=-0.98\n",
            "  Bulanık mantık çıkışı: dq1=-0.00, dq2=0.00\n",
            "  Yeni açı değerleri: q1=109.25, q2=-100.77\n",
            "Adım 29:\n",
            "  Uç pozisyonum: x=0.00, y=2.98\n",
            "  Hedef hata: Δx=-0.00, Δy=-0.98\n",
            "  Bulanık mantık çıkışı: dq1=-0.00, dq2=0.00\n",
            "  Yeni açı değerleri: q1=109.25, q2=-100.77\n",
            "Adım 30:\n",
            "  Uç pozisyonum: x=0.00, y=2.98\n",
            "  Hedef hata: Δx=-0.00, Δy=-0.98\n",
            "  Bulanık mantık çıkışı: dq1=-0.00, dq2=0.00\n",
            "  Yeni açı değerleri: q1=109.25, q2=-100.77\n",
            "Adım 31:\n",
            "  Uç pozisyonum: x=0.00, y=2.98\n",
            "  Hedef hata: Δx=-0.00, Δy=-0.98\n",
            "  Bulanık mantık çıkışı: dq1=-0.00, dq2=0.00\n",
            "  Yeni açı değerleri: q1=109.25, q2=-100.77\n",
            "Adım 32:\n",
            "  Uç pozisyonum: x=0.00, y=2.98\n",
            "  Hedef hata: Δx=-0.00, Δy=-0.98\n",
            "  Bulanık mantık çıkışı: dq1=-0.00, dq2=0.00\n",
            "  Yeni açı değerleri: q1=109.25, q2=-100.77\n",
            "Adım 33:\n",
            "  Uç pozisyonum: x=0.00, y=2.98\n",
            "  Hedef hata: Δx=-0.00, Δy=-0.98\n",
            "  Bulanık mantık çıkışı: dq1=-0.00, dq2=0.00\n",
            "  Yeni açı değerleri: q1=109.25, q2=-100.77\n",
            "Adım 34:\n",
            "  Uç pozisyonum: x=0.00, y=2.98\n",
            "  Hedef hata: Δx=-0.00, Δy=-0.98\n",
            "  Bulanık mantık çıkışı: dq1=-0.00, dq2=0.00\n",
            "  Yeni açı değerleri: q1=109.25, q2=-100.77\n",
            "Adım 35:\n",
            "  Uç pozisyonum: x=0.00, y=2.98\n",
            "  Hedef hata: Δx=-0.00, Δy=-0.98\n",
            "  Bulanık mantık çıkışı: dq1=-0.00, dq2=0.00\n",
            "  Yeni açı değerleri: q1=109.25, q2=-100.77\n",
            "Adım 36:\n",
            "  Uç pozisyonum: x=0.00, y=2.98\n",
            "  Hedef hata: Δx=-0.00, Δy=-0.98\n",
            "  Bulanık mantık çıkışı: dq1=-0.00, dq2=0.00\n",
            "  Yeni açı değerleri: q1=109.25, q2=-100.77\n",
            "Adım 37:\n",
            "  Uç pozisyonum: x=0.00, y=2.98\n",
            "  Hedef hata: Δx=-0.00, Δy=-0.98\n",
            "  Bulanık mantık çıkışı: dq1=-0.00, dq2=0.00\n",
            "  Yeni açı değerleri: q1=109.25, q2=-100.77\n",
            "Adım 38:\n",
            "  Uç pozisyonum: x=0.00, y=2.98\n",
            "  Hedef hata: Δx=-0.00, Δy=-0.98\n",
            "  Bulanık mantık çıkışı: dq1=-0.00, dq2=0.00\n",
            "  Yeni açı değerleri: q1=109.25, q2=-100.77\n",
            "Adım 39:\n",
            "  Uç pozisyonum: x=0.00, y=2.98\n",
            "  Hedef hata: Δx=-0.00, Δy=-0.98\n",
            "  Bulanık mantık çıkışı: dq1=-0.00, dq2=0.00\n",
            "  Yeni açı değerleri: q1=109.25, q2=-100.77\n",
            "Adım 40:\n",
            "  Uç pozisyonum: x=0.00, y=2.98\n",
            "  Hedef hata: Δx=-0.00, Δy=-0.98\n",
            "  Bulanık mantık çıkışı: dq1=-0.00, dq2=0.00\n",
            "  Yeni açı değerleri: q1=109.25, q2=-100.77\n"
          ]
        },
        {
          "output_type": "display_data",
          "data": {
            "text/plain": [
              "<Figure size 640x480 with 1 Axes>"
            ],
            "image/png": "[encoded data removed]"
          },
          "metadata": {}
        },
        {
          "output_type": "error",
          "ename": "AttributeError",
          "evalue": "property 'lines' of 'Axes' object has no setter",
          "traceback": [
            "\u001b[0;31m---------------------------------------------------------------------------\u001b[0m",
            "\u001b[0;31mAttributeError\u001b[0m                            Traceback (most recent call last)",
            "\u001b[0;32m<ipython-input-156-93847235cbb9>\u001b[0m in \u001b[0;36m<cell line: 0>\u001b[0;34m()\u001b[0m\n\u001b[1;32m     76\u001b[0m     \u001b[0mplt\u001b[0m\u001b[0;34m.\u001b[0m\u001b[0mpause\u001b[0m\u001b[0;34m(\u001b[0m\u001b[0;36m0.4\u001b[0m\u001b[0;34m)\u001b[0m\u001b[0;34m\u001b[0m\u001b[0;34m\u001b[0m\u001b[0m\n\u001b[1;32m     77\u001b[0m     \u001b[0;32mif\u001b[0m \u001b[0mj\u001b[0m \u001b[0;34m!=\u001b[0m \u001b[0mlen\u001b[0m\u001b[0;34m(\u001b[0m\u001b[0mq1_list\u001b[0m\u001b[0;34m)\u001b[0m \u001b[0;34m-\u001b[0m \u001b[0;36m1\u001b[0m\u001b[0;34m:\u001b[0m\u001b[0;34m\u001b[0m\u001b[0;34m\u001b[0m\u001b[0m\n\u001b[0;32m---> 78\u001b[0;31m         \u001b[0max\u001b[0m\u001b[0;34m.\u001b[0m\u001b[0mlines\u001b[0m \u001b[0;34m=\u001b[0m \u001b[0max\u001b[0m\u001b[0;34m.\u001b[0m\u001b[0mlines\u001b[0m\u001b[0;34m[\u001b[0m\u001b[0;34m:\u001b[0m\u001b[0;36m1\u001b[0m\u001b[0;34m]\u001b[0m\u001b[0;34m\u001b[0m\u001b[0;34m\u001b[0m\u001b[0m\n\u001b[0m\u001b[1;32m     79\u001b[0m \u001b[0;34m\u001b[0m\u001b[0m\n\u001b[1;32m     80\u001b[0m \u001b[0mplt\u001b[0m\u001b[0;34m.\u001b[0m\u001b[0mshow\u001b[0m\u001b[0;34m(\u001b[0m\u001b[0;34m)\u001b[0m\u001b[0;34m\u001b[0m\u001b[0;34m\u001b[0m\u001b[0m\n",
            "\u001b[0;31mAttributeError\u001b[0m: property 'lines' of 'Axes' object has no setter"
          ]
        }
      ]
    },
    {
      "cell_type": "markdown",
      "source": [
        "##Sonuç-1"
      ],
      "metadata": {
        "id": "KnrZExzeUMj3"
      }
    },
    {
      "cell_type": "markdown",
      "source": [
        "Fuzzy algorithm kullanarak hedefe ulaşamadık algoritmayı tekrar tekrar deneyerek güncelledikten sonra hedefe en yakın çıktı olarak 1500. tekrarda dahi ulaştığımız son çıktının resmini görmektesiniz. Robotun bir yerden sonra hareketsiz kalmasının sebebi parametreleri ayarlarken q2 ve q1 birlikte arttırarak mesafe ölçelim eğer mesafe uzaklaşmaya başlarsa q2 azalt q1 arttır demiş olmamdan kaynaklanmaktadır. Diğer ihtimalleri de denememe rahmen 0.8 çarpan ile daha kaliteli bir çıktıya ulaşamadık çünkü okul numaramın 02 ile bitmesi 3e 1 uzunluğunda bir kolun q1de x ekseni ile +90 q2 de +270 derece tam açı yapmasını gerektirmektedir ve bu geometrik olarak tam karşılayan bir netlik olsa da fuzzy ile sağlanamamıştır. Saygılar"
      ],
      "metadata": {
        "id": "FkiebRPkS8dK"
      }
    },
    {
      "cell_type": "markdown",
      "source": [
        "#sonradan gelen güncelleme"
      ],
      "metadata": {
        "id": "43wZyEIuUJKc"
      }
    },
    {
      "cell_type": "markdown",
      "source": [
        "q1 ve q2 fonksiyonları için sırasıyla arttır-arttır ve arttır-azalt kullandım fakat son noktada azalt-azalt yaparak sonuca ulaşabileceğimi düşünüyorum. Ek kombinasyon olarak çıktı süresince azalt-arttır da denenebilir kodun son kısmında parametreleri sıfırlayıp tekrardan çıktı alacağım."
      ],
      "metadata": {
        "id": "f69gbwb5UWAN"
      }
    },
    {
      "cell_type": "code",
      "source": [
        "a1 = 3\n",
        "a2 = 1\n",
        "target_x = 0\n",
        "target_y = 2\n",
        "\n",
        "q1 = 0.0\n",
        "q2 = 0.0\n"
      ],
      "metadata": {
        "id": "CMXH9gbtU1_u"
      },
      "execution_count": null,
      "outputs": []
    },
    {
      "cell_type": "code",
      "source": [
        "\n",
        "# Kayıt için\n",
        "q1_list = []\n",
        "q2_list = []\n",
        "x_list = []\n",
        "y_list = []\n",
        "\n",
        "def get_end_effector(q1, q2):\n",
        "    x = a1 * np.cos(np.radians(q1)) + a2 * np.cos(np.radians(q1 + q2))\n",
        "    y = a1 * np.sin(np.radians(q1)) + a2 * np.sin(np.radians(q1 + q2))\n",
        "    return x, y\n",
        "\n",
        "for step in range(50):\n",
        "    options = []\n",
        "    actions = [\n",
        "        (+1, +1),  # q1 arttır, q2 arttır\n",
        "        (-1, -1),  # q1 azalt, q2 azalt\n",
        "        (+1, -1),  # q1 arttır, q2 azalt\n",
        "        (-1, +1),  # q1 azalt, q2 arttır\n",
        "        (0, +1),   # sadece q2 arttır\n",
        "        (0, -1),   # sadece q2 azalt\n",
        "        (+1, 0),   # sadece q1 arttır\n",
        "        (-1, 0),   # sadece q1 azalt\n",
        "        (0, 0)     # hiç değişme (gerekiyor)\n",
        "    ]\n",
        "    step_size = 1  # veya 0.8, 1 derece gibi küçük bir değer\n",
        "\n",
        "    for dq1_sign, dq2_sign in actions:\n",
        "        temp_q1 = q1 + dq1_sign * step_size\n",
        "        temp_q2 = q2 + dq2_sign * step_size\n",
        "        x, y = get_end_effector(temp_q1, temp_q2)\n",
        "        dist = np.sqrt((target_x - x)**2 + (target_y - y)**2)\n",
        "        options.append((dist, temp_q1, temp_q2))\n",
        "\n",
        "    # En kısa mesafeyi bul\n",
        "    best = min(options, key=lambda t: t[0])\n",
        "    q1 = best[1]\n",
        "    q2 = best[2]\n",
        "    x, y = get_end_effector(q1, q2)\n",
        "    q1_list.append(q1)\n",
        "    q2_list.append(q2)\n",
        "    x_list.append(x)\n",
        "    y_list.append(y)\n",
        "\n",
        "    # Yeterince yakınsa kır\n",
        "    if best[0] < 0.03:\n",
        "        print(f\" Sonunda hedefe ulaşıldı! q1={q1:.2f}, q2={q2:.2f}\")\n",
        "        break\n",
        "\n",
        "# Son animasyon\n",
        "fig, ax = plt.subplots()\n",
        "ax.set_aspect('equal')\n",
        "ax.set_xlim(-4, 4)\n",
        "ax.set_ylim(-1, 4)\n",
        "plt.xlabel(\"x\")\n",
        "plt.ylabel(\"y\")\n",
        "plt.title(\"Tüm İhtimaller Denenerek Hedefe Ulaşma\")\n",
        "plt.plot(target_x, target_y, 'ro', label='Hedef (0,2)')\n",
        "plt.legend()\n",
        "for j in range(len(q1_list)):\n",
        "    q1_deg = q1_list[j]\n",
        "    q2_deg = q2_list[j]\n",
        "    x0, y0 = 0, 0\n",
        "    x1 = a1 * np.cos(np.radians(q1_deg))\n",
        "    y1 = a1 * np.sin(np.radians(q1_deg))\n",
        "    x2 = x1 + a2 * np.cos(np.radians(q1_deg + q2_deg))\n",
        "    y2 = y1 + a2 * np.sin(np.radians(q1_deg + q2_deg))\n",
        "    ax.plot([x0, x1], [y0, y1], 'b-', linewidth=2)\n",
        "    ax.plot([x1, x2], [y1, y2], 'g-', linewidth=2)\n",
        "    ax.plot(x2, y2, 'ko')\n",
        "    plt.pause(0.01)\n",
        "    if j != len(q1_list) - 1:\n",
        "        ax.lines = ax.lines[:1]\n",
        "plt.show()\n"
      ],
      "metadata": {
        "colab": {
          "base_uri": "https://localhost:8080/",
          "height": 432
        },
        "id": "IIfd6YLUMbR0",
        "outputId": "d785a62f-67be-433e-e859-078e0f2b653f"
      },
      "execution_count": null,
      "outputs": [
        {
          "output_type": "stream",
          "name": "stdout",
          "text": [
            " Sonunda hedefe ulaşıldı! q1=85.00, q2=170.00\n"
          ]
        },
        {
          "output_type": "display_data",
          "data": {
            "text/plain": [
              "<Figure size 640x480 with 1 Axes>"
            ],
            "image/png": "[encoded data removed]"
          },
          "metadata": {}
        }
      ]
    },
    {
      "cell_type": "markdown",
      "source": [],
      "metadata": {
        "id": "xt4AxFTZVOlM"
      }
    },
    {
      "cell_type": "markdown",
      "source": [
        "Sonunda hedefe ulaşıldı! q1=85.00, q2=170.00"
      ],
      "metadata": {
        "id": "vEL103NaVP3p"
      }
    },
    {
      "cell_type": "markdown",
      "source": [
        "Yukarıdaki mesaj başardığımızı gösteriyor plot gösterimi olarak hayal ettiğim gibi olmadı zira 2 yüksekliğinde ve x ekseninde 0 olan bir top için 90 ve 270 derece pozitif açılar gerekiyordu ama gösterimle alakalı sıkıntımız olsa da fuzzy çalıştı ve ortalama doğru sonuca ulaştık üstelik 1500 kere tekrar ettirmeden :=) Saygılar."
      ],
      "metadata": {
        "id": "zoMbouiBVSho"
      }
    },
    {
      "cell_type": "code",
      "source": [],
      "metadata": {
        "id": "z_lGIY4RVNDJ"
      },
      "execution_count": null,
      "outputs": []
    }
  ]
}